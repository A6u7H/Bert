{
 "cells": [
  {
   "cell_type": "code",
   "execution_count": 35,
   "id": "5835a8ec-5442-4672-b322-3b99438cff62",
   "metadata": {},
   "outputs": [],
   "source": [
    "# !python -m spacy download en_core_web_md > \"../data/logs.txt\"\n",
    "# !python -m spacy download de_core_news_md > \"../data/logs.txt\""
   ]
  },
  {
   "cell_type": "code",
   "execution_count": null,
   "id": "0b0c4311-ef54-4b15-904b-3bfc59032882",
   "metadata": {},
   "outputs": [],
   "source": [
    "# spacy_en = spacy.load('en_core_web_md')\n",
    "# spacy_de = spacy.load('de_core_news_md')"
   ]
  },
  {
   "cell_type": "code",
   "execution_count": 1,
   "id": "b1a44119-65b9-49b5-9484-173c81a79256",
   "metadata": {},
   "outputs": [],
   "source": [
    "import spacy\n",
    "import re\n",
    "import string\n",
    "import torchtext\n",
    "import torchdata\n",
    "import sys\n",
    "\n",
    "sys.path.append(\"..\")\n",
    "\n",
    "from spacy.lang.de.examples import sentences \n",
    "from torch.utils.data import Dataset\n",
    "\n",
    "\n",
    "from dataset.data_module import TranslateDataModule"
   ]
  },
  {
   "cell_type": "code",
   "execution_count": 2,
   "id": "fb5a884e-6ab1-41f6-90c9-728b4c37c210",
   "metadata": {},
   "outputs": [],
   "source": [
    "class Config:\n",
    "    data_path = \"../../multi30k-dataset/data/\"\n",
    "    batch_size = 8\n",
    "    \n",
    "config = Config()"
   ]
  },
  {
   "cell_type": "code",
   "execution_count": 3,
   "id": "4928a3f2-9145-40d2-a5aa-a4974b7f7f67",
   "metadata": {},
   "outputs": [],
   "source": [
    "# config.data_path"
   ]
  },
  {
   "cell_type": "code",
   "execution_count": 4,
   "id": "c33dab64-4aa8-4692-a08b-26fcaab76628",
   "metadata": {},
   "outputs": [],
   "source": [
    "datamodule = TranslateDataModule(config)\n",
    "datamodule.prepare_data()\n",
    "datamodule.setup(\"train\")"
   ]
  },
  {
   "cell_type": "code",
   "execution_count": 5,
   "id": "eec4744d-9982-488e-8c57-3f6263c80022",
   "metadata": {},
   "outputs": [],
   "source": [
    "train_dataloader = datamodule.train_dataloader()"
   ]
  },
  {
   "cell_type": "code",
   "execution_count": 6,
   "id": "ced645ea-66e8-4457-b4fa-a197a7a057fa",
   "metadata": {},
   "outputs": [
    {
     "data": {
      "text/plain": [
       "(tensor([[ 1,  4,  5,  6,  7,  8,  9, 10, 11, 12, 13, 14, 15,  2,  0,  0],\n",
       "         [ 1, 16,  7, 17, 18, 19, 20, 21,  2,  0,  0,  0,  0,  0,  0,  0],\n",
       "         [ 1, 20, 22, 23, 24, 11, 20, 25, 26, 27,  2,  0,  0,  0,  0,  0],\n",
       "         [ 1, 20, 28, 11, 29, 30, 31, 32, 33, 34, 35, 36, 37, 20, 38,  2],\n",
       "         [ 1,  4,  7, 39, 40, 41, 36, 42, 43, 44,  2,  0,  0,  0,  0,  0],\n",
       "         [ 1, 20, 28, 11, 45, 46, 47, 48, 49, 12, 50, 28, 51, 31, 52,  2],\n",
       "         [ 1, 20, 28, 53, 54, 55, 56, 57,  2,  0,  0,  0,  0,  0,  0,  0],\n",
       "         [ 1, 20, 58, 23, 59, 17, 60, 61, 49, 62, 63, 64, 65, 66,  2,  0]]),\n",
       " tensor([[ 1,  4,  5,  6,  7,  8,  9, 10, 11, 12,  2,  0,  0,  0,  0,  0],\n",
       "         [ 1, 13, 14, 15, 16, 17,  8, 18, 19, 20, 21, 22,  2,  0,  0,  0],\n",
       "         [ 1, 19, 23, 24, 25, 26, 19, 27, 28,  2,  0,  0,  0,  0,  0,  0],\n",
       "         [ 1, 19, 29, 15, 19, 30, 31, 32, 33, 34, 19, 35, 36, 19, 37,  2],\n",
       "         [ 1,  4, 14,  8, 38, 39, 40, 41, 42,  2,  0,  0,  0,  0,  0,  0],\n",
       "         [ 1, 19, 29, 15, 43, 44, 19, 45, 46, 39, 47, 29, 48, 49, 31,  2],\n",
       "         [ 1, 19, 29, 32, 50, 38, 19, 51, 52,  2,  0,  0,  0,  0,  0,  0],\n",
       "         [ 1, 19, 53, 24, 54, 34, 55, 56, 46, 57, 58, 59, 39, 60,  2,  0]]))"
      ]
     },
     "execution_count": 6,
     "metadata": {},
     "output_type": "execute_result"
    }
   ],
   "source": [
    "next(iter(train_dataloader))"
   ]
  },
  {
   "cell_type": "code",
   "execution_count": 14,
   "id": "4cac91fb-bd1e-4e5d-850a-0b8895a2ce2c",
   "metadata": {},
   "outputs": [
    {
     "data": {
      "text/plain": [
       "('Zwei junge weiße Männer sind im Freien in der Nähe vieler Büsche.',\n",
       " 'Two young, White males are outside near many bushes.')"
      ]
     },
     "execution_count": 14,
     "metadata": {},
     "output_type": "execute_result"
    }
   ],
   "source": [
    " next(iter(datamodule.train_data))"
   ]
  },
  {
   "cell_type": "code",
   "execution_count": 10,
   "id": "b30f8215-698d-4de6-90ed-73e5e1f29cd7",
   "metadata": {},
   "outputs": [],
   "source": [
    "# datamodule.source_vocab.index2word"
   ]
  },
  {
   "cell_type": "code",
   "execution_count": 2,
   "id": "9c7a2a72-0e40-45f8-a7ea-b4191e6dbcb8",
   "metadata": {},
   "outputs": [],
   "source": [
    "# spacy_de = spacy.load(\"de_core_news_sm\")\n",
    "# spacy_en = spacy.load(\"en_core_web_sm\")"
   ]
  },
  {
   "cell_type": "code",
   "execution_count": 3,
   "id": "64bb81cf-4258-41ab-a4a4-b819846b6127",
   "metadata": {},
   "outputs": [],
   "source": [
    "# spacy_de.tokenizer(next(iter(train_data))[0])"
   ]
  }
 ],
 "metadata": {
  "kernelspec": {
   "display_name": "Python (env39)",
   "language": "python",
   "name": "env39"
  },
  "language_info": {
   "codemirror_mode": {
    "name": "ipython",
    "version": 3
   },
   "file_extension": ".py",
   "mimetype": "text/x-python",
   "name": "python",
   "nbconvert_exporter": "python",
   "pygments_lexer": "ipython3",
   "version": "3.9.15"
  }
 },
 "nbformat": 4,
 "nbformat_minor": 5
}
